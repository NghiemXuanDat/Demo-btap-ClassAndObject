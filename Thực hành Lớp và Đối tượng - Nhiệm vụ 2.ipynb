{
 "cells": [
  {
   "cell_type": "code",
   "execution_count": null,
   "id": "1b7705b3",
   "metadata": {},
   "outputs": [],
   "source": [
    "\"\"\"\n",
    "Viết class NhanVien gồm các thuộc tính:\n",
    "+ Tên\n",
    "+ Tuổi\n",
    "+ Địa chỉ\n",
    "+ Tiền lương\n",
    "+ Tổng số giờ làm\n",
    "\n",
    "Và các phương thức:\n",
    "- Phương thức __init__()\n",
    "- print_info() : In ra tất cả các thông tin của nhân viên\n",
    "- tinh_thuong(): Tính toán và trả về số tiền thưởng của nhân viên theo công thức sau:\n",
    "Nếu tổng số giờ làm của nhân viên >=200 thì thưởng = lương * 20%\n",
    "Nếu tổng số giờ làm của nhân viên <200 và >=100 thì thưởng = lương * 10%\n",
    "Nếu tổng số giờ làm của nhân viên <100 thì thưởng = 0\n",
    "\"\"\""
   ]
  },
  {
   "cell_type": "code",
   "execution_count": 3,
   "id": "3cf0f41d",
   "metadata": {},
   "outputs": [
    {
     "name": "stdout",
     "output_type": "stream",
     "text": [
      "Name: Nghiêm Xuân Đạt\n",
      "Age: 20\n",
      "Address: HaNoi\n",
      "Salary: 2000000\n",
      "Total of work hour: 210\n",
      "Bonus: 400000.0\n"
     ]
    }
   ],
   "source": [
    "class NhanVien:\n",
    "    def  __init__(self, ten, tuoi, dia_chi, tien_luong, tong_gio_lam):\n",
    "        self.ten = ten\n",
    "        self.tuoi = tuoi\n",
    "        self.dia_chi = dia_chi\n",
    "        self.tien_luong = tien_luong\n",
    "        self.tong_gio_lam = tong_gio_lam\n",
    "    def print_info(self):\n",
    "        print(f\"Name: {self.ten}\")\n",
    "        print(f\"Age: {self.tuoi}\")\n",
    "        print(f\"Address: {self.dia_chi}\")\n",
    "        print(f\"Salary: {self.tien_luong}\")\n",
    "        print(f\"Total of work hour: {self.tong_gio_lam}\")\n",
    "\n",
    "    def tinh_thuong(self):\n",
    "        if self.tong_gio_lam >= 200:\n",
    "            thuong = self.tien_luong * 0.2\n",
    "        elif 100 <= self.tong_gio_lam < 200:\n",
    "            thuong = self.tien_luong * 0.1\n",
    "        else:\n",
    "            thuong = 0\n",
    "        print(f\"Bonus: {thuong}\")\n",
    "\n",
    "nhan_vien = NhanVien(\"Nghiêm Xuân Đạt\", 20, \"HaNoi\", 2000000, 210)\n",
    "nhan_vien.print_info()\n",
    "nhan_vien.tinh_thuong()"
   ]
  }
 ],
 "metadata": {
  "kernelspec": {
   "display_name": "Python 3 (ipykernel)",
   "language": "python",
   "name": "python3"
  },
  "language_info": {
   "codemirror_mode": {
    "name": "ipython",
    "version": 3
   },
   "file_extension": ".py",
   "mimetype": "text/x-python",
   "name": "python",
   "nbconvert_exporter": "python",
   "pygments_lexer": "ipython3",
   "version": "3.12.3"
  }
 },
 "nbformat": 4,
 "nbformat_minor": 5
}
